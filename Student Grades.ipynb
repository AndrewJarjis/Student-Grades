{
 "cells": [
  {
   "cell_type": "code",
   "execution_count": 11,
   "id": "32aec4db",
   "metadata": {},
   "outputs": [],
   "source": [
    "import statistics as stats"
   ]
  },
  {
   "cell_type": "code",
   "execution_count": 12,
   "id": "344d43fe",
   "metadata": {},
   "outputs": [],
   "source": [
    "math_grades = [11, 12, 11, 7, 9.5, 15, 18]\n",
    "science_grades = [9, 11, 18, 15.5, 12, 18.5, 15.5]\n",
    "reading_grades = [16, 8.5, 11.5, 11, 10.5, 7, 11]\n",
    "history_grades = [13.5, 10, 9, 14, 14, 12, 7.5]"
   ]
  },
  {
   "cell_type": "code",
   "execution_count": 13,
   "id": "66fda2c2",
   "metadata": {},
   "outputs": [],
   "source": [
    "math_mean = stats.mean(math_grades)\n",
    "science_mean = stats.mean(science_grades)\n",
    "reading_mean = stats.mean(reading_grades)\n",
    "history_mean = stats.mean(history_grades)"
   ]
  },
  {
   "cell_type": "code",
   "execution_count": 14,
   "id": "a5484ed3",
   "metadata": {},
   "outputs": [],
   "source": [
    "math_median = stats.median(math_grades)"
   ]
  },
  {
   "cell_type": "code",
   "execution_count": 15,
   "id": "d08de7d3",
   "metadata": {},
   "outputs": [],
   "source": [
    "history_mode = stats.mode(history_grades)"
   ]
  },
  {
   "cell_type": "code",
   "execution_count": 16,
   "id": "98bc591c",
   "metadata": {},
   "outputs": [
    {
     "name": "stdout",
     "output_type": "stream",
     "text": [
      "Mean for Math: 11.93\n",
      "Mean for Science: 14.21\n",
      "Mean for Reading: 10.79\n",
      "Mean for History: 11.43\n",
      "Median grade in Math: 11\n",
      "Mode for History: 14\n"
     ]
    }
   ],
   "source": [
    "print(f\"Mean for Math: {math_mean:.2f}\")\n",
    "print(f\"Mean for Science: {science_mean:.2f}\")\n",
    "print(f\"Mean for Reading: {reading_mean:.2f}\")\n",
    "print(f\"Mean for History: {history_mean:.2f}\")\n",
    "print(f\"Median grade in Math: {math_median}\")\n",
    "print(f\"Mode for History: {history_mode}\")"
   ]
  },
  {
   "cell_type": "code",
   "execution_count": 17,
   "id": "0576223b",
   "metadata": {},
   "outputs": [],
   "source": [
    "import numpy as np\n",
    "math_grades = [11, 12, 11, 7, 9.5, 15, 18]\n",
    "science_grades = [9, 11, 18, 15.5, 12, 18.5, 15.5]\n",
    "reading_grades = [16, 8.5, 11.5, 11, 10.5, 7, 11]\n",
    "history_grades = [13.5, 10, 9, 14, 14, 12, 7.5]"
   ]
  },
  {
   "cell_type": "code",
   "execution_count": 18,
   "id": "2a6a19c7",
   "metadata": {},
   "outputs": [],
   "source": [
    "math_science_corr = np.corrcoef(math_grades, science_grades)[0, 1]\n",
    "math_reading_corr = np.corrcoef(math_grades, reading_grades)[0, 1]\n",
    "math_history_corr = np.corrcoef(math_grades, history_grades)[0, 1]\n",
    "science_reading_corr = np.corrcoef(science_grades, reading_grades)[0, 1]\n",
    "science_history_corr = np.corrcoef(science_grades, history_grades)[0, 1]\n",
    "reading_history_corr = np.corrcoef(reading_grades, history_grades)[0, 1]"
   ]
  },
  {
   "cell_type": "code",
   "execution_count": 19,
   "id": "ee18d36c",
   "metadata": {},
   "outputs": [],
   "source": [
    "correlations = {\n",
    "    'Math-Science': math_science_corr,\n",
    "    'Math-Reading': math_reading_corr,\n",
    "    'Math-History': math_history_corr,\n",
    "    'Science-Reading': science_reading_corr,\n",
    "    'Science-History': science_history_corr,\n",
    "    'Reading-History': reading_history_corr\n",
    "}\n",
    "strongest_corr = max(correlations, key=correlations.get)\n",
    "correlation_strength = correlations[strongest_corr]"
   ]
  },
  {
   "cell_type": "code",
   "execution_count": 20,
   "id": "7e79f897",
   "metadata": {},
   "outputs": [
    {
     "name": "stdout",
     "output_type": "stream",
     "text": [
      "The two subjects with the strongest correlation are: Math-Science, with a correlation coefficient of 0.27.\n"
     ]
    }
   ],
   "source": [
    "print(f\"The two subjects with the strongest correlation are: {strongest_corr}, with a correlation coefficient of {correlation_strength:.2f}.\")"
   ]
  },
  {
   "cell_type": "code",
   "execution_count": 21,
   "id": "75897b4a",
   "metadata": {},
   "outputs": [
    {
     "name": "stdout",
     "output_type": "stream",
     "text": [
      "mean: 59.47826086956522\n",
      "median: 60\n",
      "mode: 60\n",
      "minimum: 5\n",
      "maximum: 99\n",
      "range: 94\n",
      "variance: 694.3517786561265\n",
      "standard deviation: 26.350555566365703\n"
     ]
    }
   ],
   "source": [
    "import statistics\n",
    "def desc_stats(numbers):\n",
    "    mean = statistics.mean(numbers)\n",
    "    median = statistics.median(numbers)\n",
    "    mode = statistics.mode(numbers)\n",
    "    minimum = min(numbers)\n",
    "    maximum = max(numbers)\n",
    "    range_ = maximum - minimum\n",
    "    variance = statistics.variance(numbers)\n",
    "    standard_deviation = statistics.stdev(numbers)\n",
    "    \n",
    "    print(\"mean:\", mean)\n",
    "    print(\"median:\", median)\n",
    "    print(\"mode:\", mode)\n",
    "    print(\"minimum:\", minimum)\n",
    "    print(\"maximum:\", maximum)\n",
    "    print(\"range:\", range_)\n",
    "    print(\"variance:\", variance)\n",
    "    print(\"standard deviation:\", standard_deviation)\n",
    "exam_scores = [24, 5, 15, 60, 54, 82, 99, 80, 70, 98, 93, 60, 33, 22, 65, 61, 51, 58, 83, 86, 42, 67, 60]\n",
    "desc_stats(exam_scores)\n"
   ]
  },
  {
   "cell_type": "code",
   "execution_count": null,
   "id": "5b93e397",
   "metadata": {},
   "outputs": [],
   "source": []
  }
 ],
 "metadata": {
  "kernelspec": {
   "display_name": "Python 3 (ipykernel)",
   "language": "python",
   "name": "python3"
  },
  "language_info": {
   "codemirror_mode": {
    "name": "ipython",
    "version": 3
   },
   "file_extension": ".py",
   "mimetype": "text/x-python",
   "name": "python",
   "nbconvert_exporter": "python",
   "pygments_lexer": "ipython3",
   "version": "3.9.13"
  }
 },
 "nbformat": 4,
 "nbformat_minor": 5
}
